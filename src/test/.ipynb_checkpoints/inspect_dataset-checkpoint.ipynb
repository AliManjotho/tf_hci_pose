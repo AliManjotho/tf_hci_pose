{
 "cells": [
  {
   "cell_type": "code",
   "execution_count": 1,
   "metadata": {},
   "outputs": [],
   "source": [
    "%matplotlib inline\n",
    "from pycocotools.coco import COCO\n",
    "import numpy as np\n",
    "import matplotlib.pyplot as plt\n",
    "from PIL import Image"
   ]
  },
  {
   "cell_type": "code",
   "execution_count": 2,
   "metadata": {},
   "outputs": [],
   "source": [
    "train_ann_file = '../datasets/coco2017/annotations/person_keypoints_train2017.json'\n",
    "val_ann_file = '../datasets/coco2017/annotations/person_keypoints_val2017.json'\n",
    "train_images = '../datasets/coco2017/train2017/'\n",
    "test_images = '../datasets/coco2017/test2017/'\n",
    "val_images = '../datasets/coco2017/val2017/'"
   ]
  },
  {
   "cell_type": "code",
   "execution_count": 3,
   "metadata": {},
   "outputs": [
    {
     "name": "stdout",
     "output_type": "stream",
     "text": [
      "loading annotations into memory...\n",
      "Done (t=16.21s)\n",
      "creating index...\n",
      "index created!\n",
      "loading annotations into memory...\n",
      "Done (t=1.37s)\n",
      "creating index...\n",
      "index created!\n"
     ]
    }
   ],
   "source": [
    "coco_train = COCO(train_ann_file)\n",
    "coco_val = COCO(val_ann_file)"
   ]
  },
  {
   "cell_type": "code",
   "execution_count": 5,
   "metadata": {},
   "outputs": [
    {
     "name": "stderr",
     "output_type": "stream",
     "text": [
      "c:\\users\\anam ali\\appdata\\local\\programs\\python\\python37\\lib\\site-packages\\ipykernel_launcher.py:14: UserWarning: Matplotlib is currently using agg, which is a non-GUI backend, so cannot show the figure.\n",
      "  \n"
     ]
    }
   ],
   "source": [
    "catIds = coco_train.getCatIds(catNms=['person'])\n",
    "imgIds = coco_train.getImgIds(catIds=catIds)\n",
    "img = coco_train.loadImgs(imgIds[np.random.randint(0,len(imgIds))])[0]\n",
    "\n",
    "img_path = train_images + img['file_name']\n",
    "orig_width = img['width']\n",
    "orig_height = img['height']\n",
    "new_width = 320\n",
    "new_height = 240\n",
    "\n",
    "I = Image.open(img_path)\n",
    "plt.axis('off')\n",
    "plt.imshow(I)\n",
    "plt.show()"
   ]
  },
  {
   "cell_type": "code",
   "execution_count": 5,
   "metadata": {},
   "outputs": [],
   "source": [
    "# load and display keypoints annotations\n",
    "\n",
    "plt.imshow(I); plt.axis('off')\n",
    "ax = plt.gca()\n",
    "annIds = coco_train.getAnnIds(imgIds=img['id'], catIds=catIds, iscrowd=None)\n",
    "anns = coco_train.loadAnns(annIds)\n",
    "coco_train.showAnns(anns)"
   ]
  },
  {
   "cell_type": "code",
   "execution_count": 6,
   "metadata": {},
   "outputs": [
    {
     "name": "stderr",
     "output_type": "stream",
     "text": [
      "c:\\users\\anam ali\\appdata\\local\\programs\\python\\python37\\lib\\site-packages\\ipykernel_launcher.py:15: UserWarning: Matplotlib is currently using agg, which is a non-GUI backend, so cannot show the figure.\n",
      "  from ipykernel import kernelapp as app\n"
     ]
    }
   ],
   "source": [
    "I = I.resize((new_width, new_height))\n",
    "I = np.asarray(I) / 255.0\n",
    "\n",
    "\n",
    "plt.imshow(I); plt.axis('off')\n",
    "ax = plt.gca()\n",
    "\n",
    "for ann in anns:\n",
    "    kps = ann['keypoints']\n",
    "    xs = np.array([kps[x] for x in range(0,len(kps), 3)]) / orig_width * new_width\n",
    "    ys = np.array([kps[y] for y in range(1,len(kps), 3)]) / orig_height * new_height\n",
    "    vs = np.array([kps[v] for v in range(2,len(kps), 3)])\n",
    "    plt.plot(xs[vs>0], ys[vs>0], 'ro', alpha=0.5)\n",
    "\n",
    "plt.show()"
   ]
  },
  {
   "cell_type": "code",
   "execution_count": null,
   "metadata": {},
   "outputs": [],
   "source": []
  }
 ],
 "metadata": {
  "kernelspec": {
   "display_name": "Python 3",
   "language": "python",
   "name": "python3"
  },
  "language_info": {
   "codemirror_mode": {
    "name": "ipython",
    "version": 3
   },
   "file_extension": ".py",
   "mimetype": "text/x-python",
   "name": "python",
   "nbconvert_exporter": "python",
   "pygments_lexer": "ipython3",
   "version": "3.7.5"
  }
 },
 "nbformat": 4,
 "nbformat_minor": 4
}
